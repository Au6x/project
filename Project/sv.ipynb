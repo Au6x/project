{
 "cells": [
  {
   "cell_type": "code",
   "execution_count": 2,
   "metadata": {},
   "outputs": [
    {
     "name": "stderr",
     "output_type": "stream",
     "text": [
      "ERROR: Could not find a version that satisfies the requirement streamlitlottie (from versions: none)\n",
      "ERROR: No matching distribution found for streamlitlottie\n",
      "\n",
      "[notice] A new release of pip available: 22.3 -> 22.3.1\n",
      "[notice] To update, run: C:\\Users\\Raymond\\AppData\\Local\\Microsoft\\WindowsApps\\PythonSoftwareFoundation.Python.3.10_qbz5n2kfra8p0\\python.exe -m pip install --upgrade pip\n"
     ]
    },
    {
     "name": "stdout",
     "output_type": "stream",
     "text": [
      "Collecting streamlit_lottie"
     ]
    },
    {
     "name": "stderr",
     "output_type": "stream",
     "text": [
      "\n",
      "[notice] A new release of pip available: 22.3 -> 22.3.1\n",
      "[notice] To update, run: C:\\Users\\Raymond\\AppData\\Local\\Microsoft\\WindowsApps\\PythonSoftwareFoundation.Python.3.10_qbz5n2kfra8p0\\python.exe -m pip install --upgrade pip\n"
     ]
    },
    {
     "name": "stdout",
     "output_type": "stream",
     "text": [
      "\n",
      "  Downloading streamlit_lottie-0.0.3-py3-none-any.whl (769 kB)\n",
      "     ------------------------------------ 769.4/769.4 kB 970.8 kB/s eta 0:00:00\n",
      "Requirement already satisfied: streamlit>=0.63 in c:\\users\\raymond\\appdata\\local\\packages\\pythonsoftwarefoundation.python.3.10_qbz5n2kfra8p0\\localcache\\local-packages\\python310\\site-packages (from streamlit_lottie) (1.16.0)\n",
      "Requirement already satisfied: watchdog in c:\\users\\raymond\\appdata\\local\\packages\\pythonsoftwarefoundation.python.3.10_qbz5n2kfra8p0\\localcache\\local-packages\\python310\\site-packages (from streamlit>=0.63->streamlit_lottie) (2.2.0)\n",
      "Requirement already satisfied: protobuf<4,>=3.12 in c:\\users\\raymond\\appdata\\local\\packages\\pythonsoftwarefoundation.python.3.10_qbz5n2kfra8p0\\localcache\\local-packages\\python310\\site-packages (from streamlit>=0.63->streamlit_lottie) (3.20.3)\n",
      "Requirement already satisfied: requests>=2.4 in c:\\users\\raymond\\appdata\\local\\packages\\pythonsoftwarefoundation.python.3.10_qbz5n2kfra8p0\\localcache\\local-packages\\python310\\site-packages (from streamlit>=0.63->streamlit_lottie) (2.28.1)\n",
      "Requirement already satisfied: pillow>=6.2.0 in c:\\users\\raymond\\appdata\\local\\packages\\pythonsoftwarefoundation.python.3.10_qbz5n2kfra8p0\\localcache\\local-packages\\python310\\site-packages (from streamlit>=0.63->streamlit_lottie) (9.3.0)\n",
      "Requirement already satisfied: pyarrow>=4.0 in c:\\users\\raymond\\appdata\\local\\packages\\pythonsoftwarefoundation.python.3.10_qbz5n2kfra8p0\\localcache\\local-packages\\python310\\site-packages (from streamlit>=0.63->streamlit_lottie) (10.0.0)\n",
      "Requirement already satisfied: tornado>=5.0 in c:\\users\\raymond\\appdata\\local\\packages\\pythonsoftwarefoundation.python.3.10_qbz5n2kfra8p0\\localcache\\local-packages\\python310\\site-packages (from streamlit>=0.63->streamlit_lottie) (6.2)\n",
      "Requirement already satisfied: blinker>=1.0.0 in c:\\users\\raymond\\appdata\\local\\packages\\pythonsoftwarefoundation.python.3.10_qbz5n2kfra8p0\\localcache\\local-packages\\python310\\site-packages (from streamlit>=0.63->streamlit_lottie) (1.5)\n",
      "Requirement already satisfied: tzlocal>=1.1 in c:\\users\\raymond\\appdata\\local\\packages\\pythonsoftwarefoundation.python.3.10_qbz5n2kfra8p0\\localcache\\local-packages\\python310\\site-packages (from streamlit>=0.63->streamlit_lottie) (4.2)\n",
      "Requirement already satisfied: pydeck>=0.1.dev5 in c:\\users\\raymond\\appdata\\local\\packages\\pythonsoftwarefoundation.python.3.10_qbz5n2kfra8p0\\localcache\\local-packages\\python310\\site-packages (from streamlit>=0.63->streamlit_lottie) (0.8.0)\n",
      "Requirement already satisfied: validators>=0.2 in c:\\users\\raymond\\appdata\\local\\packages\\pythonsoftwarefoundation.python.3.10_qbz5n2kfra8p0\\localcache\\local-packages\\python310\\site-packages (from streamlit>=0.63->streamlit_lottie) (0.20.0)\n",
      "Requirement already satisfied: click>=7.0 in c:\\users\\raymond\\appdata\\local\\packages\\pythonsoftwarefoundation.python.3.10_qbz5n2kfra8p0\\localcache\\local-packages\\python310\\site-packages (from streamlit>=0.63->streamlit_lottie) (8.1.3)\n",
      "Requirement already satisfied: rich>=10.11.0 in c:\\users\\raymond\\appdata\\local\\packages\\pythonsoftwarefoundation.python.3.10_qbz5n2kfra8p0\\localcache\\local-packages\\python310\\site-packages (from streamlit>=0.63->streamlit_lottie) (12.6.0)\n",
      "Requirement already satisfied: semver in c:\\users\\raymond\\appdata\\local\\packages\\pythonsoftwarefoundation.python.3.10_qbz5n2kfra8p0\\localcache\\local-packages\\python310\\site-packages (from streamlit>=0.63->streamlit_lottie) (2.13.0)\n",
      "Requirement already satisfied: altair>=3.2.0 in c:\\users\\raymond\\appdata\\local\\packages\\pythonsoftwarefoundation.python.3.10_qbz5n2kfra8p0\\localcache\\local-packages\\python310\\site-packages (from streamlit>=0.63->streamlit_lottie) (4.2.0)\n",
      "Requirement already satisfied: pandas>=0.21.0 in c:\\users\\raymond\\appdata\\local\\packages\\pythonsoftwarefoundation.python.3.10_qbz5n2kfra8p0\\localcache\\local-packages\\python310\\site-packages (from streamlit>=0.63->streamlit_lottie) (1.5.1)\n",
      "Requirement already satisfied: cachetools>=4.0 in c:\\users\\raymond\\appdata\\local\\packages\\pythonsoftwarefoundation.python.3.10_qbz5n2kfra8p0\\localcache\\local-packages\\python310\\site-packages (from streamlit>=0.63->streamlit_lottie) (5.2.0)\n",
      "Requirement already satisfied: pympler>=0.9 in c:\\users\\raymond\\appdata\\local\\packages\\pythonsoftwarefoundation.python.3.10_qbz5n2kfra8p0\\localcache\\local-packages\\python310\\site-packages (from streamlit>=0.63->streamlit_lottie) (1.0.1)\n",
      "Requirement already satisfied: packaging>=14.1 in c:\\users\\raymond\\appdata\\local\\packages\\pythonsoftwarefoundation.python.3.10_qbz5n2kfra8p0\\localcache\\local-packages\\python310\\site-packages (from streamlit>=0.63->streamlit_lottie) (21.3)\n",
      "Requirement already satisfied: importlib-metadata>=1.4 in c:\\users\\raymond\\appdata\\local\\packages\\pythonsoftwarefoundation.python.3.10_qbz5n2kfra8p0\\localcache\\local-packages\\python310\\site-packages (from streamlit>=0.63->streamlit_lottie) (5.2.0)\n",
      "Requirement already satisfied: typing-extensions>=3.10.0.0 in c:\\users\\raymond\\appdata\\local\\packages\\pythonsoftwarefoundation.python.3.10_qbz5n2kfra8p0\\localcache\\local-packages\\python310\\site-packages (from streamlit>=0.63->streamlit_lottie) (4.4.0)\n",
      "Requirement already satisfied: toml in c:\\users\\raymond\\appdata\\local\\packages\\pythonsoftwarefoundation.python.3.10_qbz5n2kfra8p0\\localcache\\local-packages\\python310\\site-packages (from streamlit>=0.63->streamlit_lottie) (0.10.2)\n",
      "Requirement already satisfied: numpy in c:\\users\\raymond\\appdata\\local\\packages\\pythonsoftwarefoundation.python.3.10_qbz5n2kfra8p0\\localcache\\local-packages\\python310\\site-packages (from streamlit>=0.63->streamlit_lottie) (1.22.4)\n",
      "Requirement already satisfied: python-dateutil in c:\\users\\raymond\\appdata\\local\\packages\\pythonsoftwarefoundation.python.3.10_qbz5n2kfra8p0\\localcache\\local-packages\\python310\\site-packages (from streamlit>=0.63->streamlit_lottie) (2.8.2)\n",
      "Requirement already satisfied: gitpython!=3.1.19 in c:\\users\\raymond\\appdata\\local\\packages\\pythonsoftwarefoundation.python.3.10_qbz5n2kfra8p0\\localcache\\local-packages\\python310\\site-packages (from streamlit>=0.63->streamlit_lottie) (3.1.29)\n",
      "Requirement already satisfied: toolz in c:\\users\\raymond\\appdata\\local\\packages\\pythonsoftwarefoundation.python.3.10_qbz5n2kfra8p0\\localcache\\local-packages\\python310\\site-packages (from altair>=3.2.0->streamlit>=0.63->streamlit_lottie) (0.12.0)\n",
      "Requirement already satisfied: jsonschema>=3.0 in c:\\users\\raymond\\appdata\\local\\packages\\pythonsoftwarefoundation.python.3.10_qbz5n2kfra8p0\\localcache\\local-packages\\python310\\site-packages (from altair>=3.2.0->streamlit>=0.63->streamlit_lottie) (4.17.0)\n",
      "Requirement already satisfied: entrypoints in c:\\users\\raymond\\appdata\\local\\packages\\pythonsoftwarefoundation.python.3.10_qbz5n2kfra8p0\\localcache\\local-packages\\python310\\site-packages (from altair>=3.2.0->streamlit>=0.63->streamlit_lottie) (0.4)\n",
      "Requirement already satisfied: jinja2 in c:\\users\\raymond\\appdata\\local\\packages\\pythonsoftwarefoundation.python.3.10_qbz5n2kfra8p0\\localcache\\local-packages\\python310\\site-packages (from altair>=3.2.0->streamlit>=0.63->streamlit_lottie) (3.1.2)\n",
      "Requirement already satisfied: colorama in c:\\users\\raymond\\appdata\\local\\packages\\pythonsoftwarefoundation.python.3.10_qbz5n2kfra8p0\\localcache\\local-packages\\python310\\site-packages (from click>=7.0->streamlit>=0.63->streamlit_lottie) (0.4.6)\n",
      "Requirement already satisfied: gitdb<5,>=4.0.1 in c:\\users\\raymond\\appdata\\local\\packages\\pythonsoftwarefoundation.python.3.10_qbz5n2kfra8p0\\localcache\\local-packages\\python310\\site-packages (from gitpython!=3.1.19->streamlit>=0.63->streamlit_lottie) (4.0.10)\n",
      "Requirement already satisfied: zipp>=0.5 in c:\\users\\raymond\\appdata\\local\\packages\\pythonsoftwarefoundation.python.3.10_qbz5n2kfra8p0\\localcache\\local-packages\\python310\\site-packages (from importlib-metadata>=1.4->streamlit>=0.63->streamlit_lottie) (3.11.0)\n",
      "Requirement already satisfied: pyparsing!=3.0.5,>=2.0.2 in c:\\users\\raymond\\appdata\\local\\packages\\pythonsoftwarefoundation.python.3.10_qbz5n2kfra8p0\\localcache\\local-packages\\python310\\site-packages (from packaging>=14.1->streamlit>=0.63->streamlit_lottie) (3.0.9)\n",
      "Requirement already satisfied: pytz>=2020.1 in c:\\users\\raymond\\appdata\\local\\packages\\pythonsoftwarefoundation.python.3.10_qbz5n2kfra8p0\\localcache\\local-packages\\python310\\site-packages (from pandas>=0.21.0->streamlit>=0.63->streamlit_lottie) (2022.6)\n",
      "Requirement already satisfied: six>=1.5 in c:\\users\\raymond\\appdata\\local\\packages\\pythonsoftwarefoundation.python.3.10_qbz5n2kfra8p0\\localcache\\local-packages\\python310\\site-packages (from python-dateutil->streamlit>=0.63->streamlit_lottie) (1.16.0)\n",
      "Requirement already satisfied: certifi>=2017.4.17 in c:\\users\\raymond\\appdata\\local\\packages\\pythonsoftwarefoundation.python.3.10_qbz5n2kfra8p0\\localcache\\local-packages\\python310\\site-packages (from requests>=2.4->streamlit>=0.63->streamlit_lottie) (2022.9.24)\n",
      "Requirement already satisfied: idna<4,>=2.5 in c:\\users\\raymond\\appdata\\local\\packages\\pythonsoftwarefoundation.python.3.10_qbz5n2kfra8p0\\localcache\\local-packages\\python310\\site-packages (from requests>=2.4->streamlit>=0.63->streamlit_lottie) (3.4)\n",
      "Requirement already satisfied: urllib3<1.27,>=1.21.1 in c:\\users\\raymond\\appdata\\local\\packages\\pythonsoftwarefoundation.python.3.10_qbz5n2kfra8p0\\localcache\\local-packages\\python310\\site-packages (from requests>=2.4->streamlit>=0.63->streamlit_lottie) (1.26.12)\n",
      "Requirement already satisfied: charset-normalizer<3,>=2 in c:\\users\\raymond\\appdata\\local\\packages\\pythonsoftwarefoundation.python.3.10_qbz5n2kfra8p0\\localcache\\local-packages\\python310\\site-packages (from requests>=2.4->streamlit>=0.63->streamlit_lottie) (2.1.1)\n",
      "Requirement already satisfied: pygments<3.0.0,>=2.6.0 in c:\\users\\raymond\\appdata\\local\\packages\\pythonsoftwarefoundation.python.3.10_qbz5n2kfra8p0\\localcache\\local-packages\\python310\\site-packages (from rich>=10.11.0->streamlit>=0.63->streamlit_lottie) (2.13.0)\n",
      "Requirement already satisfied: commonmark<0.10.0,>=0.9.0 in c:\\users\\raymond\\appdata\\local\\packages\\pythonsoftwarefoundation.python.3.10_qbz5n2kfra8p0\\localcache\\local-packages\\python310\\site-packages (from rich>=10.11.0->streamlit>=0.63->streamlit_lottie) (0.9.1)\n",
      "Requirement already satisfied: tzdata in c:\\users\\raymond\\appdata\\local\\packages\\pythonsoftwarefoundation.python.3.10_qbz5n2kfra8p0\\localcache\\local-packages\\python310\\site-packages (from tzlocal>=1.1->streamlit>=0.63->streamlit_lottie) (2022.7)\n",
      "Requirement already satisfied: pytz-deprecation-shim in c:\\users\\raymond\\appdata\\local\\packages\\pythonsoftwarefoundation.python.3.10_qbz5n2kfra8p0\\localcache\\local-packages\\python310\\site-packages (from tzlocal>=1.1->streamlit>=0.63->streamlit_lottie) (0.1.0.post0)\n",
      "Requirement already satisfied: decorator>=3.4.0 in c:\\users\\raymond\\appdata\\local\\packages\\pythonsoftwarefoundation.python.3.10_qbz5n2kfra8p0\\localcache\\local-packages\\python310\\site-packages (from validators>=0.2->streamlit>=0.63->streamlit_lottie) (5.1.1)\n",
      "Requirement already satisfied: smmap<6,>=3.0.1 in c:\\users\\raymond\\appdata\\local\\packages\\pythonsoftwarefoundation.python.3.10_qbz5n2kfra8p0\\localcache\\local-packages\\python310\\site-packages (from gitdb<5,>=4.0.1->gitpython!=3.1.19->streamlit>=0.63->streamlit_lottie) (5.0.0)\n",
      "Requirement already satisfied: MarkupSafe>=2.0 in c:\\users\\raymond\\appdata\\local\\packages\\pythonsoftwarefoundation.python.3.10_qbz5n2kfra8p0\\localcache\\local-packages\\python310\\site-packages (from jinja2->altair>=3.2.0->streamlit>=0.63->streamlit_lottie) (2.1.1)\n",
      "Requirement already satisfied: attrs>=17.4.0 in c:\\users\\raymond\\appdata\\local\\packages\\pythonsoftwarefoundation.python.3.10_qbz5n2kfra8p0\\localcache\\local-packages\\python310\\site-packages (from jsonschema>=3.0->altair>=3.2.0->streamlit>=0.63->streamlit_lottie) (22.1.0)\n",
      "Requirement already satisfied: pyrsistent!=0.17.0,!=0.17.1,!=0.17.2,>=0.14.0 in c:\\users\\raymond\\appdata\\local\\packages\\pythonsoftwarefoundation.python.3.10_qbz5n2kfra8p0\\localcache\\local-packages\\python310\\site-packages (from jsonschema>=3.0->altair>=3.2.0->streamlit>=0.63->streamlit_lottie) (0.19.2)\n",
      "Installing collected packages: streamlit_lottie\n",
      "Successfully installed streamlit_lottie-0.0.3\n"
     ]
    }
   ],
   "source": [
    "!pip install streamlit_lottie"
   ]
  }
 ],
 "metadata": {
  "kernelspec": {
   "display_name": "Python 3",
   "language": "python",
   "name": "python3"
  },
  "language_info": {
   "codemirror_mode": {
    "name": "ipython",
    "version": 3
   },
   "file_extension": ".py",
   "mimetype": "text/x-python",
   "name": "python",
   "nbconvert_exporter": "python",
   "pygments_lexer": "ipython3",
   "version": "3.10.8"
  },
  "orig_nbformat": 4,
  "vscode": {
   "interpreter": {
    "hash": "76cb3df6fb894e2ffe4f5d28e65a9d190a17aff199d398c31ec7a2eb6547a736"
   }
  }
 },
 "nbformat": 4,
 "nbformat_minor": 2
}
